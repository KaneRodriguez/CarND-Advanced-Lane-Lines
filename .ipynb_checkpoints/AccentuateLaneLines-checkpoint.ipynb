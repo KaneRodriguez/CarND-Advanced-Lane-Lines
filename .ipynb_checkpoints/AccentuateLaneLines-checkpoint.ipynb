{
 "cells": [
  {
   "cell_type": "markdown",
   "metadata": {},
   "source": [
    "# Accentuating Lane Lines"
   ]
  },
  {
   "cell_type": "markdown",
   "metadata": {},
   "source": [
    "## Importing Packages"
   ]
  },
  {
   "cell_type": "code",
   "execution_count": null,
   "metadata": {},
   "outputs": [],
   "source": [
    "import matplotlib.pyplot as plt\n",
    "import matplotlib.image as mpimg\n",
    "import numpy as np\n",
    "import colorsys\n",
    "import glob\n",
    "import cv2\n",
    "\n",
    "%matplotlib inline\n",
    "\n",
    "# Make the plotImages function available\n",
    "%run PlottingHelperFunctions.ipynb"
   ]
  },
  {
   "cell_type": "markdown",
   "metadata": {},
   "source": [
    "## Applying Color Transform"
   ]
  },
  {
   "cell_type": "code",
   "execution_count": null,
   "metadata": {},
   "outputs": [],
   "source": [
    "def colorTransform(img, colorConversion=cv2.COLOR_RGB2HLS):\n",
    "    return cv2.cvtColor(img, colorConversion)"
   ]
  },
  {
   "cell_type": "markdown",
   "metadata": {},
   "source": [
    "## Testing Color Transform"
   ]
  },
  {
   "cell_type": "code",
   "execution_count": null,
   "metadata": {},
   "outputs": [],
   "source": [
    "testColorConversions = [(cv2.COLOR_RGB2YCrCb   , \"cv2.COLOR_RGB2YCrCb\"   ),            \n",
    "                        (cv2.COLOR_RGB2HSV     , \"cv2.COLOR_RGB2HSV\"     ),    \n",
    "                        (cv2.COLOR_RGB2Lab     , \"cv2.COLOR_RGB2Lab\"     ),    \n",
    "                        (cv2.COLOR_RGB2Luv     , \"cv2.COLOR_RGB2Luv\"     ),    \n",
    "                        (cv2.COLOR_RGB2HLS     , \"cv2.COLOR_RGB2HLS\"     ),  \n",
    "                        (cv2.COLOR_RGB2HSV_FULL, \"cv2.COLOR_RGB2HSV_FULL\"),       \n",
    "                        (cv2.COLOR_RGB2HLS_FULL, \"cv2.COLOR_RGB2HLS_FULL\"),       \n",
    "                        (cv2.COLOR_RGB2YUV     , \"cv2.COLOR_RGB2YUV\"     )]\n",
    "\n",
    "testImage = mpimg.imread(\"test_images/straight_lines1.jpg\")\n",
    "\n",
    "for colorConversion, conversionName in testColorConversions:\n",
    "    plotImages([testImage, \n",
    "                colorTransform(testImage, colorConversion)], \n",
    "               [\"Original\", \n",
    "                conversionName], \n",
    "               2, figsize=(30,40))"
   ]
  },
  {
   "cell_type": "markdown",
   "metadata": {},
   "source": [
    "## Applying Sobel Gradient"
   ]
  },
  {
   "cell_type": "code",
   "execution_count": null,
   "metadata": {},
   "outputs": [],
   "source": [
    "def sobelGradientBinary(img):\n",
    "    # TODO: pass in parameters for threshes\n",
    "    return img"
   ]
  },
  {
   "cell_type": "markdown",
   "metadata": {},
   "source": [
    "## Applying White and Yellow Accentuation"
   ]
  },
  {
   "cell_type": "code",
   "execution_count": null,
   "metadata": {},
   "outputs": [],
   "source": [
    "def whiteAndYellowBinary(img):\n",
    "    # convert to hls\n",
    "    hls = cv2.cvtColor(img, cv2.COLOR_RGB2HLS_FULL)\n",
    "    # white mask\n",
    "    whiteMask = cv2.inRange(hls, (60/2, 255*.97, 255*.83), (46/2, 255*.97, 255*.60))\n",
    "    # yellow mask\n",
    "    yellowMask = cv2.inRange(hls, (44/2, 255*.67, 255*.98), (45/2, 255*.63, 255*.91))\n",
    "    # combine white and yellow masks\n",
    "    mask = cv2.bitwise_or(whiteMask, yellowMask)\n",
    "    return cv2.bitwise_and(img, img, mask=mask)"
   ]
  },
  {
   "cell_type": "markdown",
   "metadata": {},
   "source": [
    "## Testing White and Yellow Accentuation"
   ]
  },
  {
   "cell_type": "code",
   "execution_count": null,
   "metadata": {
    "scrolled": true
   },
   "outputs": [],
   "source": [
    " plotImages([testImage, whiteAndYellowBinary(testImage)], \n",
    "           [\"Original\", \"After HLS Mask\"], \n",
    "           2, figsize=(30,40))"
   ]
  },
  {
   "cell_type": "markdown",
   "metadata": {},
   "source": [
    "## Combining Color Transform, Gradient, and W&Y Accentuation"
   ]
  },
  {
   "cell_type": "code",
   "execution_count": null,
   "metadata": {},
   "outputs": [],
   "source": [
    "def accentuateLaneLines(img):\n",
    "    colorTransformImage = colorTransform(img, cv2.COLOR_RGB2HLS_FULL)\n",
    "    sobelGradientBinaryImage = sobelGradientBinary(img)\n",
    "    whiteAndYellowBinaryImage = whiteAndYellowBinary(colorTransformImage)\n",
    "    \n",
    "    # TODO: combine these images together for the final result\n",
    "    combinedBinary = img\n",
    "    \n",
    "    return combinedBinary"
   ]
  },
  {
   "cell_type": "markdown",
   "metadata": {},
   "source": [
    "## Testing Accentuation Function"
   ]
  },
  {
   "cell_type": "code",
   "execution_count": null,
   "metadata": {},
   "outputs": [],
   "source": []
  }
 ],
 "metadata": {
  "kernelspec": {
   "display_name": "Python 3",
   "language": "python",
   "name": "python3"
  },
  "language_info": {
   "codemirror_mode": {
    "name": "ipython",
    "version": 3
   },
   "file_extension": ".py",
   "mimetype": "text/x-python",
   "name": "python",
   "nbconvert_exporter": "python",
   "pygments_lexer": "ipython3",
   "version": "3.6.5"
  }
 },
 "nbformat": 4,
 "nbformat_minor": 2
}
