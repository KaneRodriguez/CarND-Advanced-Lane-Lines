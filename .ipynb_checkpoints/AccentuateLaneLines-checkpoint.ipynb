{
 "cells": [
  {
   "cell_type": "markdown",
   "metadata": {},
   "source": [
    "# Accentuating Lane Lines"
   ]
  },
  {
   "cell_type": "markdown",
   "metadata": {},
   "source": [
    "## Importing Packages"
   ]
  },
  {
   "cell_type": "code",
   "execution_count": null,
   "metadata": {},
   "outputs": [],
   "source": [
    "import matplotlib.pyplot as plt\n",
    "import matplotlib.image as mpimg\n",
    "import numpy as np\n",
    "import glob\n",
    "import cv2\n",
    "\n",
    "%matplotlib inline\n",
    "\n",
    "# Make the plotImages function available\n",
    "%run PlottingHelperFunctions.ipynb"
   ]
  },
  {
   "cell_type": "markdown",
   "metadata": {},
   "source": [
    "## Testing Color Transforms"
   ]
  },
  {
   "cell_type": "code",
   "execution_count": null,
   "metadata": {},
   "outputs": [],
   "source": [
    "testImage = mpimg.imread(\"test_images/straight_lines1_bev.jpg\")\n",
    "\n",
    "testColorConversions = [testImage,\n",
    "                        cv2.cvtColor(testImage, cv2.COLOR_RGB2YCrCb   ),\n",
    "                        cv2.cvtColor(testImage, cv2.COLOR_RGB2HSV     ),\n",
    "                        cv2.cvtColor(testImage, cv2.COLOR_RGB2Lab     ),\n",
    "                        cv2.cvtColor(testImage, cv2.COLOR_RGB2Luv     ),\n",
    "                        cv2.cvtColor(testImage, cv2.COLOR_RGB2HLS     ),\n",
    "                        cv2.cvtColor(testImage, cv2.COLOR_RGB2HSV_FULL),\n",
    "                        cv2.cvtColor(testImage, cv2.COLOR_RGB2HLS_FULL),\n",
    "                        cv2.cvtColor(testImage, cv2.COLOR_RGB2YUV     )]\n",
    "\n",
    "testColorConversionNames= [\"Original Image\",\n",
    "                        \"cv2.COLOR_RGB2YCrCb\"   ,            \n",
    "                        \"cv2.COLOR_RGB2HSV\"     ,    \n",
    "                        \"cv2.COLOR_RGB2Lab\"     ,    \n",
    "                        \"cv2.COLOR_RGB2Luv\"     ,    \n",
    "                        \"cv2.COLOR_RGB2HLS\"     ,  \n",
    "                        \"cv2.COLOR_RGB2HSV_FULL\",       \n",
    "                        \"cv2.COLOR_RGB2HLS_FULL\",       \n",
    "                        \"cv2.COLOR_RGB2YUV\"     ]\n",
    "\n",
    "print(\"Testing Color Transforms...\")\n",
    "plotImages(testColorConversions, testColorConversionNames, 3, figsize=(20, 20))"
   ]
  },
  {
   "cell_type": "markdown",
   "metadata": {},
   "source": [
    "## Applying Sobel Gradient"
   ]
  },
  {
   "cell_type": "code",
   "execution_count": null,
   "metadata": {},
   "outputs": [],
   "source": [
    "def sobelGradientBinary(img):\n",
    "    # TODO: pass in parameters for threshes\n",
    "    return img"
   ]
  },
  {
   "cell_type": "markdown",
   "metadata": {},
   "source": [
    "## Applying White and Yellow Accentuation"
   ]
  },
  {
   "cell_type": "code",
   "execution_count": null,
   "metadata": {},
   "outputs": [],
   "source": [
    "def whiteAndYellow(img):\n",
    "    # convert to hls\n",
    "    hls = cv2.cvtColor(img, cv2.COLOR_RGB2HLS_FULL)\n",
    "    # white mask\n",
    "    whiteMask = cv2.inRange(hls, (0, 210, 200), (255, 255, 255))\n",
    "    # yellow mask\n",
    "    yellowMask = cv2.inRange(hls, (10, 0, 100), (40, 255, 255))\n",
    "    # combine white and yellow masks\n",
    "    mask = cv2.bitwise_or(whiteMask, yellowMask)\n",
    "    return cv2.bitwise_and(img, img, mask=mask)\n",
    "\n",
    "def whiteAndYellowBinary(img, channel=1):\n",
    "    return whiteAndYellow(img)[:,:,channel]"
   ]
  },
  {
   "cell_type": "markdown",
   "metadata": {},
   "source": [
    "## Testing White and Yellow Accentuation"
   ]
  },
  {
   "cell_type": "code",
   "execution_count": null,
   "metadata": {
    "scrolled": true
   },
   "outputs": [],
   "source": [
    "ywImg =  whiteAndYellow(testImage)\n",
    "ywH = ywImg[:,:,0] \n",
    "ywL = ywImg[:,:,1] \n",
    "ywS = ywImg[:,:,2] \n",
    "\n",
    "print(\"Testing HLS White and Yellow Mask...\")\n",
    "plotImages([ywImg, ywH, ywL, ywS], \n",
    "           [\"After HLS Mask\", \"H Channel\", \"L Channel\", \"S Channel\"], \n",
    "           2, figsize=(30,40))"
   ]
  },
  {
   "cell_type": "markdown",
   "metadata": {},
   "source": [
    "## Combining Color Transform, Gradient, and W&Y Accentuation"
   ]
  },
  {
   "cell_type": "code",
   "execution_count": 6,
   "metadata": {},
   "outputs": [],
   "source": [
    "def accentuateLaneLines(img):\n",
    "    sobelGradientBinaryImage = sobelGradientBinary(img)\n",
    "    whiteAndYellowBinaryImage = whiteAndYellowBinary(img)\n",
    "    \n",
    "    # TODO: combine these images together for the final result\n",
    "    combinedBinary = whiteAndYellowBinaryImage\n",
    "    \n",
    "    return combinedBinary"
   ]
  },
  {
   "cell_type": "markdown",
   "metadata": {},
   "source": [
    "## Testing Accentuation Function"
   ]
  },
  {
   "cell_type": "code",
   "execution_count": null,
   "metadata": {},
   "outputs": [],
   "source": []
  }
 ],
 "metadata": {
  "kernelspec": {
   "display_name": "Python 3",
   "language": "python",
   "name": "python3"
  },
  "language_info": {
   "codemirror_mode": {
    "name": "ipython",
    "version": 3
   },
   "file_extension": ".py",
   "mimetype": "text/x-python",
   "name": "python",
   "nbconvert_exporter": "python",
   "pygments_lexer": "ipython3",
   "version": "3.6.5"
  }
 },
 "nbformat": 4,
 "nbformat_minor": 2
}
