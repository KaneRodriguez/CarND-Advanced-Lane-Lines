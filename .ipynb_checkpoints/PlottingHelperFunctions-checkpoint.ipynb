{
 "cells": [
  {
   "cell_type": "markdown",
   "metadata": {},
   "source": [
    "# Defining Helper Functions"
   ]
  },
  {
   "cell_type": "markdown",
   "metadata": {},
   "source": [
    "## Importing Packages"
   ]
  },
  {
   "cell_type": "code",
   "execution_count": 20,
   "metadata": {},
   "outputs": [],
   "source": [
    "import matplotlib.pyplot as plt\n",
    "import matplotlib.image as mpimg\n",
    "import numpy as np\n",
    "import glob\n",
    "import cv2\n",
    "\n",
    "%matplotlib inline"
   ]
  },
  {
   "cell_type": "markdown",
   "metadata": {},
   "source": [
    "## Defining Image Plotting Helper Function"
   ]
  },
  {
   "cell_type": "code",
   "execution_count": 21,
   "metadata": {},
   "outputs": [],
   "source": [
    "def plotImages(images, titles=[\"\"], columns=1, figsize=(20,10)):\n",
    "    # images and titles must be lists\n",
    "    if(not isinstance(images, (list,)) or not isinstance(titles, (list,))):\n",
    "        return\n",
    "    \n",
    "    # the number of titles must match the number of columns OR\n",
    "    # match the number of images\n",
    "    if(len(titles) != columns and len(titles) != len(images)):\n",
    "        return\n",
    "    \n",
    "    plt.figure(figsize=figsize)\n",
    "    for i, image in enumerate(images):\n",
    "        plt.subplot(len(images) / columns + 1, columns, i + 1)\n",
    "        \n",
    "        if len(images) == len(titles):\n",
    "            plt.gca().set_title(titles[i])\n",
    "        else:\n",
    "            plt.gca().set_title(titles[i % columns])\n",
    "        \n",
    "        plt.imshow(image)"
   ]
  }
 ],
 "metadata": {
  "kernelspec": {
   "display_name": "Python 3",
   "language": "python",
   "name": "python3"
  }
 },
 "nbformat": 4,
 "nbformat_minor": 2
}
