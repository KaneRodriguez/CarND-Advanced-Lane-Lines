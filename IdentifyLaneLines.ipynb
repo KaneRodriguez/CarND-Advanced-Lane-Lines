{
 "cells": [
  {
   "cell_type": "markdown",
   "metadata": {},
   "source": [
    "# Identifying Lane Lines"
   ]
  },
  {
   "cell_type": "markdown",
   "metadata": {},
   "source": [
    "## TODO"
   ]
  },
  {
   "cell_type": "code",
   "execution_count": null,
   "metadata": {},
   "outputs": [],
   "source": [
    "def identifyLaneLines(img):\n",
    "    # TODO: run function to detect\n",
    "    # TODO: run function to use previous\n",
    "    # TODO: move this functions and it's dependent functions\n",
    "    # to a separate notebook\n",
    "    binaryPerspectiveImage = img\n",
    "    \n",
    "    # TODO: getRadiusOfCurvature function\n",
    "    radiusOfCurvature = img\n",
    "    \n",
    "    return binaryPerspectiveImage, radiusOfCurvature"
   ]
  },
  {
   "cell_type": "markdown",
   "metadata": {},
   "source": [
    "## Testing Lane Lines Identification from B.E.V. Image"
   ]
  },
  {
   "cell_type": "code",
   "execution_count": null,
   "metadata": {},
   "outputs": [],
   "source": []
  }
 ],
 "metadata": {
  "kernelspec": {
   "display_name": "Python 3",
   "language": "python",
   "name": "python3"
  },
  "language_info": {
   "codemirror_mode": {
    "name": "ipython",
    "version": 3
   },
   "file_extension": ".py",
   "mimetype": "text/x-python",
   "name": "python",
   "nbconvert_exporter": "python",
   "pygments_lexer": "ipython3",
   "version": "3.6.5"
  }
 },
 "nbformat": 4,
 "nbformat_minor": 2
}
